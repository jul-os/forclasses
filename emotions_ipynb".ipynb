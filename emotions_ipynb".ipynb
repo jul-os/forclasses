{
  "nbformat": 4,
  "nbformat_minor": 0,
  "metadata": {
    "accelerator": "GPU",
    "colab": {
      "name": "emotions.ipynb\"",
      "provenance": [],
      "collapsed_sections": [],
      "include_colab_link": true
    },
    "kernelspec": {
      "display_name": "Python 3",
      "name": "python3"
    },
    "language_info": {
      "name": "python"
    }
  },
  "cells": [
    {
      "cell_type": "markdown",
      "metadata": {
        "id": "view-in-github",
        "colab_type": "text"
      },
      "source": [
        "<a href=\"https://colab.research.google.com/github/jul-os/forclasses/blob/main/emotions_ipynb%22.ipynb\" target=\"_parent\"><img src=\"https://colab.research.google.com/assets/colab-badge.svg\" alt=\"Open In Colab\"/></a>"
      ]
    },
    {
      "cell_type": "code",
      "metadata": {
        "colab": {
          "base_uri": "https://localhost:8080/"
        },
        "id": "_vGfW4I5yOl3",
        "outputId": "636ba276-4d36-4af8-fd38-e00e49986356"
      },
      "source": [
        "from google.colab import drive\n",
        "drive.mount('/content/drive')"
      ],
      "execution_count": null,
      "outputs": [
        {
          "output_type": "stream",
          "text": [
            "Drive already mounted at /content/drive; to attempt to forcibly remount, call drive.mount(\"/content/drive\", force_remount=True).\n"
          ],
          "name": "stdout"
        }
      ]
    },
    {
      "cell_type": "code",
      "metadata": {
        "id": "nFXbq-Q83LLE"
      },
      "source": [
        "import pandas as pd\n",
        "train= pd.read_csv('/content/drive/MyDrive/dataset/train.csv')\n",
        "test=pd.read_csv('/content/drive/MyDrive/dataset/test.csv')"
      ],
      "execution_count": null,
      "outputs": []
    },
    {
      "cell_type": "code",
      "metadata": {
        "id": "C0TwHKKWr7rY"
      },
      "source": [
        "from keras.datasets import mnist\n",
        "from keras.models import Model\n",
        "from keras.layers import Input, Dense, Conv2D, Flatten, MaxPool2D\n",
        "from keras.utils import np_utils\n",
        "import matplotlib.pyplot as plt\n",
        "import numpy as np"
      ],
      "execution_count": null,
      "outputs": []
    },
    {
      "cell_type": "code",
      "metadata": {
        "colab": {
          "base_uri": "https://localhost:8080/",
          "height": 419
        },
        "id": "MKQmAGM23qCq",
        "outputId": "0d69b80c-ae9c-48de-be5d-c8c7ca16cd52"
      },
      "source": [
        "train"
      ],
      "execution_count": null,
      "outputs": [
        {
          "output_type": "execute_result",
          "data": {
            "text/html": [
              "<div>\n",
              "<style scoped>\n",
              "    .dataframe tbody tr th:only-of-type {\n",
              "        vertical-align: middle;\n",
              "    }\n",
              "\n",
              "    .dataframe tbody tr th {\n",
              "        vertical-align: top;\n",
              "    }\n",
              "\n",
              "    .dataframe thead th {\n",
              "        text-align: right;\n",
              "    }\n",
              "</style>\n",
              "<table border=\"1\" class=\"dataframe\">\n",
              "  <thead>\n",
              "    <tr style=\"text-align: right;\">\n",
              "      <th></th>\n",
              "      <th>emotion</th>\n",
              "      <th>pixels</th>\n",
              "    </tr>\n",
              "  </thead>\n",
              "  <tbody>\n",
              "    <tr>\n",
              "      <th>0</th>\n",
              "      <td>0</td>\n",
              "      <td>70 80 82 72 58 58 60 63 54 58 60 48 89 115 121...</td>\n",
              "    </tr>\n",
              "    <tr>\n",
              "      <th>1</th>\n",
              "      <td>0</td>\n",
              "      <td>151 150 147 155 148 133 111 140 170 174 182 15...</td>\n",
              "    </tr>\n",
              "    <tr>\n",
              "      <th>2</th>\n",
              "      <td>2</td>\n",
              "      <td>231 212 156 164 174 138 161 173 182 200 106 38...</td>\n",
              "    </tr>\n",
              "    <tr>\n",
              "      <th>3</th>\n",
              "      <td>4</td>\n",
              "      <td>24 32 36 30 32 23 19 20 30 41 21 22 32 34 21 1...</td>\n",
              "    </tr>\n",
              "    <tr>\n",
              "      <th>4</th>\n",
              "      <td>6</td>\n",
              "      <td>4 0 0 0 0 0 0 0 0 0 0 0 3 15 23 28 48 50 58 84...</td>\n",
              "    </tr>\n",
              "    <tr>\n",
              "      <th>...</th>\n",
              "      <td>...</td>\n",
              "      <td>...</td>\n",
              "    </tr>\n",
              "    <tr>\n",
              "      <th>28704</th>\n",
              "      <td>2</td>\n",
              "      <td>84 85 85 85 85 85 85 85 86 86 86 87 86 86 91 9...</td>\n",
              "    </tr>\n",
              "    <tr>\n",
              "      <th>28705</th>\n",
              "      <td>0</td>\n",
              "      <td>114 112 113 113 111 111 112 113 115 113 114 11...</td>\n",
              "    </tr>\n",
              "    <tr>\n",
              "      <th>28706</th>\n",
              "      <td>4</td>\n",
              "      <td>74 81 87 89 95 100 98 93 105 120 127 133 146 1...</td>\n",
              "    </tr>\n",
              "    <tr>\n",
              "      <th>28707</th>\n",
              "      <td>0</td>\n",
              "      <td>222 227 203 90 86 90 84 77 94 87 99 119 134 14...</td>\n",
              "    </tr>\n",
              "    <tr>\n",
              "      <th>28708</th>\n",
              "      <td>4</td>\n",
              "      <td>195 199 205 206 205 203 206 209 208 210 212 21...</td>\n",
              "    </tr>\n",
              "  </tbody>\n",
              "</table>\n",
              "<p>28709 rows × 2 columns</p>\n",
              "</div>"
            ],
            "text/plain": [
              "       emotion                                             pixels\n",
              "0            0  70 80 82 72 58 58 60 63 54 58 60 48 89 115 121...\n",
              "1            0  151 150 147 155 148 133 111 140 170 174 182 15...\n",
              "2            2  231 212 156 164 174 138 161 173 182 200 106 38...\n",
              "3            4  24 32 36 30 32 23 19 20 30 41 21 22 32 34 21 1...\n",
              "4            6  4 0 0 0 0 0 0 0 0 0 0 0 3 15 23 28 48 50 58 84...\n",
              "...        ...                                                ...\n",
              "28704        2  84 85 85 85 85 85 85 85 86 86 86 87 86 86 91 9...\n",
              "28705        0  114 112 113 113 111 111 112 113 115 113 114 11...\n",
              "28706        4  74 81 87 89 95 100 98 93 105 120 127 133 146 1...\n",
              "28707        0  222 227 203 90 86 90 84 77 94 87 99 119 134 14...\n",
              "28708        4  195 199 205 206 205 203 206 209 208 210 212 21...\n",
              "\n",
              "[28709 rows x 2 columns]"
            ]
          },
          "metadata": {
            "tags": []
          },
          "execution_count": 225
        }
      ]
    },
    {
      "cell_type": "code",
      "metadata": {
        "colab": {
          "base_uri": "https://localhost:8080/",
          "height": 419
        },
        "id": "nHqowdV555oJ",
        "outputId": "94d55170-145e-4084-b6ab-6bfa04738390"
      },
      "source": [
        "test"
      ],
      "execution_count": null,
      "outputs": [
        {
          "output_type": "execute_result",
          "data": {
            "text/html": [
              "<div>\n",
              "<style scoped>\n",
              "    .dataframe tbody tr th:only-of-type {\n",
              "        vertical-align: middle;\n",
              "    }\n",
              "\n",
              "    .dataframe tbody tr th {\n",
              "        vertical-align: top;\n",
              "    }\n",
              "\n",
              "    .dataframe thead th {\n",
              "        text-align: right;\n",
              "    }\n",
              "</style>\n",
              "<table border=\"1\" class=\"dataframe\">\n",
              "  <thead>\n",
              "    <tr style=\"text-align: right;\">\n",
              "      <th></th>\n",
              "      <th>pixels</th>\n",
              "    </tr>\n",
              "  </thead>\n",
              "  <tbody>\n",
              "    <tr>\n",
              "      <th>0</th>\n",
              "      <td>254 254 254 254 254 249 255 160 2 58 53 70 77 ...</td>\n",
              "    </tr>\n",
              "    <tr>\n",
              "      <th>1</th>\n",
              "      <td>156 184 198 202 204 207 210 212 213 214 215 21...</td>\n",
              "    </tr>\n",
              "    <tr>\n",
              "      <th>2</th>\n",
              "      <td>69 118 61 60 96 121 103 87 103 88 70 90 115 12...</td>\n",
              "    </tr>\n",
              "    <tr>\n",
              "      <th>3</th>\n",
              "      <td>205 203 236 157 83 158 120 116 94 86 155 180 2...</td>\n",
              "    </tr>\n",
              "    <tr>\n",
              "      <th>4</th>\n",
              "      <td>87 79 74 66 74 96 77 80 80 84 83 89 102 91 84 ...</td>\n",
              "    </tr>\n",
              "    <tr>\n",
              "      <th>...</th>\n",
              "      <td>...</td>\n",
              "    </tr>\n",
              "    <tr>\n",
              "      <th>7173</th>\n",
              "      <td>50 36 17 22 23 29 33 39 34 37 37 37 39 43 48 5...</td>\n",
              "    </tr>\n",
              "    <tr>\n",
              "      <th>7174</th>\n",
              "      <td>178 174 172 173 181 188 191 194 196 199 200 20...</td>\n",
              "    </tr>\n",
              "    <tr>\n",
              "      <th>7175</th>\n",
              "      <td>17 17 16 23 28 22 19 17 25 26 20 24 31 19 27 9...</td>\n",
              "    </tr>\n",
              "    <tr>\n",
              "      <th>7176</th>\n",
              "      <td>30 28 28 29 31 30 42 68 79 81 77 67 67 71 63 6...</td>\n",
              "    </tr>\n",
              "    <tr>\n",
              "      <th>7177</th>\n",
              "      <td>19 13 14 12 13 16 21 33 50 57 71 84 97 108 122...</td>\n",
              "    </tr>\n",
              "  </tbody>\n",
              "</table>\n",
              "<p>7178 rows × 1 columns</p>\n",
              "</div>"
            ],
            "text/plain": [
              "                                                 pixels\n",
              "0     254 254 254 254 254 249 255 160 2 58 53 70 77 ...\n",
              "1     156 184 198 202 204 207 210 212 213 214 215 21...\n",
              "2     69 118 61 60 96 121 103 87 103 88 70 90 115 12...\n",
              "3     205 203 236 157 83 158 120 116 94 86 155 180 2...\n",
              "4     87 79 74 66 74 96 77 80 80 84 83 89 102 91 84 ...\n",
              "...                                                 ...\n",
              "7173  50 36 17 22 23 29 33 39 34 37 37 37 39 43 48 5...\n",
              "7174  178 174 172 173 181 188 191 194 196 199 200 20...\n",
              "7175  17 17 16 23 28 22 19 17 25 26 20 24 31 19 27 9...\n",
              "7176  30 28 28 29 31 30 42 68 79 81 77 67 67 71 63 6...\n",
              "7177  19 13 14 12 13 16 21 33 50 57 71 84 97 108 122...\n",
              "\n",
              "[7178 rows x 1 columns]"
            ]
          },
          "metadata": {
            "tags": []
          },
          "execution_count": 226
        }
      ]
    },
    {
      "cell_type": "code",
      "metadata": {
        "colab": {
          "base_uri": "https://localhost:8080/",
          "height": 52
        },
        "id": "Zw_ekJQQ0xDi",
        "outputId": "344e7eaf-36ee-48e2-da65-652a79cf2a16"
      },
      "source": [
        "K=np.array(list(train['pixels']))\n",
        "X_train=[]\n",
        "for i in range(int(len(K)*0.8)):\n",
        "   X_train.append(np.array(K[i].split(), dtype='float32'))\n",
        "X_train=np.array(X_train)\n",
        "\n",
        "print((int(len(K)*0.8)))\n",
        "\n",
        "K=np.array(list(train['emotion']))\n",
        "Y_train=[]\n",
        "for i in range(int(len(K)*0.8)):\n",
        "  Y_train.append(np.array(K[i], dtype='float32'))\n",
        "Y_train=np.array(Y_train) \n",
        "\n",
        "K=np.array(list(train['pixels']))\n",
        "X_test=[]\n",
        "for i in range(int(len(K)*0.8),len(K)):\n",
        "   X_test.append(np.array(K[i].split(), dtype='float32'))\n",
        "X_test=np.array(X_test)\n",
        "\n",
        "K=np.array(list(train['emotion']))\n",
        "Y_test=[]\n",
        "for i in range(int(len(K)*0.8),len(K)):\n",
        "  Y_test.append(np.array(K[i], dtype='float32'))\n",
        "Y_test=np.array(Y_test)\n",
        "\n",
        "'''K=np.array(list(test['pixels']))\n",
        "X_test=[]\n",
        "for i in range(len(K)):\n",
        "   X_test.append(np.array(K[i].split(), dtype='float32'))\n",
        "X_test=np.array(X_test)'''"
      ],
      "execution_count": null,
      "outputs": [
        {
          "output_type": "stream",
          "text": [
            "22967\n"
          ],
          "name": "stdout"
        },
        {
          "output_type": "execute_result",
          "data": {
            "application/vnd.google.colaboratory.intrinsic+json": {
              "type": "string"
            },
            "text/plain": [
              "\"K=np.array(list(test['pixels']))\\nX_test=[]\\nfor i in range(len(K)):\\n   X_test.append(np.array(K[i].split(), dtype='float32'))\\nX_test=np.array(X_test)\""
            ]
          },
          "metadata": {
            "tags": []
          },
          "execution_count": 227
        }
      ]
    },
    {
      "cell_type": "code",
      "metadata": {
        "colab": {
          "base_uri": "https://localhost:8080/"
        },
        "id": "UH73ygHU7leL",
        "outputId": "72a01753-3d5d-4545-bc37-9b7d8ca305f4"
      },
      "source": [
        "X_train.shape, X_test.shape"
      ],
      "execution_count": null,
      "outputs": [
        {
          "output_type": "execute_result",
          "data": {
            "text/plain": [
              "((22967, 2304), (5742, 2304))"
            ]
          },
          "metadata": {
            "tags": []
          },
          "execution_count": 228
        }
      ]
    },
    {
      "cell_type": "code",
      "metadata": {
        "id": "lSnKY7M4sCoc"
      },
      "source": [
        "batch_size = 50\n",
        "num_epochs = 10\n",
        "hidden_size = 512"
      ],
      "execution_count": null,
      "outputs": []
    },
    {
      "cell_type": "code",
      "metadata": {
        "id": "SzkDnmIysIjn"
      },
      "source": [
        "num_train = 22967\n",
        "num_test = 5742\n",
        "\n",
        "height, width, depth = 48, 48, 1\n",
        "num_classes = 7\n",
        "X_train = X_train.reshape(num_train, height, width,1)\n",
        "X_test = X_test.reshape(num_test, height, width,1)\n",
        "X_train = X_train.astype('float32') \n",
        "X_test = X_test.astype('float32')\n",
        "X_train /= 255\n",
        "X_test /= 255\n",
        "Y_train = np_utils.to_categorical(Y_train, num_classes)"
      ],
      "execution_count": null,
      "outputs": []
    },
    {
      "cell_type": "code",
      "metadata": {
        "id": "hlnCFcBHvb4W"
      },
      "source": [
        "X_train1=X_train[:15310]\n",
        "Y_train1=Y_train[:15310]\n",
        "X_train2=X_train[7655:]\n",
        "Y_train2=Y_train[7655:]\n",
        "X_train3=np.concatenate([X_train[:7655], X_train[15310:]])\n",
        "Y_train3=np.concatenate([Y_train[:7655], Y_train[15310:]])"
      ],
      "execution_count": null,
      "outputs": []
    },
    {
      "cell_type": "code",
      "metadata": {
        "colab": {
          "base_uri": "https://localhost:8080/"
        },
        "id": "p_-vgHXr2ty7",
        "outputId": "7f3b216a-a781-4e20-8fa4-a64a3e236488"
      },
      "source": [
        "X_train3.shape"
      ],
      "execution_count": null,
      "outputs": [
        {
          "output_type": "execute_result",
          "data": {
            "text/plain": [
              "(15312, 48, 48, 1)"
            ]
          },
          "metadata": {
            "tags": []
          },
          "execution_count": 232
        }
      ]
    },
    {
      "cell_type": "code",
      "metadata": {
        "colab": {
          "base_uri": "https://localhost:8080/",
          "height": 284
        },
        "id": "vg1XUU-HwiKC",
        "outputId": "d790c294-76b5-45a8-cfb6-2eb2f64ac6a2"
      },
      "source": [
        "plt.imshow(X_test[55].reshape(48,48))"
      ],
      "execution_count": null,
      "outputs": [
        {
          "output_type": "execute_result",
          "data": {
            "text/plain": [
              "<matplotlib.image.AxesImage at 0x7fb183fe1410>"
            ]
          },
          "metadata": {
            "tags": []
          },
          "execution_count": 233
        },
        {
          "output_type": "display_data",
          "data": {
            "image/png": "[encoded data removed]",
            "text/plain": [
              "<Figure size 432x288 with 1 Axes>"
            ]
          },
          "metadata": {
            "tags": [],
            "needs_background": "light"
          }
        }
      ]
    },
    {
      "cell_type": "code",
      "metadata": {
        "id": "vv5cIHCHUivd"
      },
      "source": [
        "inp = Input(shape=(height, width, 1)) \n",
        "hidden_1= Conv2D(50, 5, activation='selu')(inp)\n",
        "max_1=MaxPool2D((2, 2))(hidden_1)\n",
        "hidden_2= Conv2D(50, 5, activation='elu')(max_1)\n",
        "max_2=MaxPool2D((2, 2))(hidden_2)\n",
        "hidden_2= Conv2D(50, 5, activation='elu')(max_2)\n",
        "hidden_2 = Flatten()(hidden_1)\n",
        "hidden_3 = Dense(50, activation='relu')(hidden_2)\n",
        "hidden_4 = Dense(50, activation='relu')(hidden_3) \n",
        "out = Dense(num_classes, activation='softmax')(hidden_4)\n",
        "\n",
        "model1 = Model(inp, out) "
      ],
      "execution_count": null,
      "outputs": []
    },
    {
      "cell_type": "code",
      "metadata": {
        "id": "sZljwSqyvzsf"
      },
      "source": [
        "inp = Input(shape=(height, width, 1))\n",
        "fkatten_1=Flatten()(inp)\n",
        "hidden_1=Dense(hidden_size, activation='relu')(fkatten_1)\n",
        "hidden_2=Dense(hidden_size, activation='relu')(hidden_1)\n",
        "hidden_3=Dense(hidden_size, activation='relu')(hidden_2)\n",
        "out = Dense(num_classes, activation='softmax')(hidden_3)\n",
        "\n",
        "model2= Model(inp, out)"
      ],
      "execution_count": null,
      "outputs": []
    },
    {
      "cell_type": "code",
      "metadata": {
        "id": "LZs4FDCivzdX"
      },
      "source": [
        "inp = Input(shape=(height, width, 1)) \n",
        "hidden_1= Conv2D(50, 5, activation='selu')(inp)\n",
        "hidden_2= Conv2D(50, 5, activation='selu')(hidden_1)\n",
        "hidden_3 = Flatten()(hidden_2)\n",
        "hidden_4 = Dense(50, activation='relu')(hidden_3)\n",
        "hidden_5 = Dense(50, activation='elu')(hidden_4) \n",
        "hidden_6 = Dense(50, activation='relu')(hidden_5)\n",
        "out = Dense(num_classes, activation='sigmoid')(hidden_6)\n",
        "model3=Model(inp, out)"
      ],
      "execution_count": null,
      "outputs": []
    },
    {
      "cell_type": "code",
      "metadata": {
        "id": "pMUBssFcsj3e"
      },
      "source": [
        "model1.compile(loss='categorical_crossentropy', # using the cross-entropy loss function\n",
        "              optimizer='adam', # using the Adam optimiser\n",
        "              metrics=['accuracy']) # reporting the accuracy\n",
        "model2.compile(loss='categorical_crossentropy', # using the cross-entropy loss function\n",
        "              optimizer='adam', # using the Adam optimiser\n",
        "              metrics=['accuracy']) # reporting the accuracy\n",
        "model3.compile(loss='categorical_crossentropy', # using the cross-entropy loss function\n",
        "              optimizer='adam', # using the Adam optimiser\n",
        "              metrics=['accuracy']) # reporting the accuracy"
      ],
      "execution_count": null,
      "outputs": []
    },
    {
      "cell_type": "code",
      "metadata": {
        "colab": {
          "base_uri": "https://localhost:8080/"
        },
        "id": "S0OU3FeGsnji",
        "outputId": "ac607176-191b-44a3-8f9b-a0ca63ddfa5b"
      },
      "source": [
        "model1.fit(X_train1, Y_train1, # Train the model using the training set...\n",
        "          batch_size=batch_size, epochs=num_epochs,\n",
        "          verbose=1, validation_split=0.1) # ...holding out 10% of the data for validation\n",
        "model2.fit(X_train2, Y_train2, # Train the model using the training set...\n",
        "          batch_size=batch_size, epochs=num_epochs,\n",
        "          verbose=1, validation_split=0.1)\n",
        "model3.fit(X_train3, Y_train3, # Train the model using the training set...\n",
        "          batch_size=batch_size, epochs=num_epochs,\n",
        "          verbose=1, validation_split=0.1)"
      ],
      "execution_count": null,
      "outputs": [
        {
          "output_type": "stream",
          "text": [
            "Epoch 1/10\n",
            "276/276 [==============================] - 5s 14ms/step - loss: 2.1956 - accuracy: 0.2404 - val_loss: 1.7480 - val_accuracy: 0.3037\n",
            "Epoch 2/10\n",
            "276/276 [==============================] - 4s 13ms/step - loss: 1.6600 - accuracy: 0.3453 - val_loss: 1.6686 - val_accuracy: 0.3396\n",
            "Epoch 3/10\n",
            "276/276 [==============================] - 3s 12ms/step - loss: 1.6418 - accuracy: 0.3590 - val_loss: 1.7158 - val_accuracy: 0.3259\n",
            "Epoch 4/10\n",
            "276/276 [==============================] - 3s 12ms/step - loss: 1.5991 - accuracy: 0.3636 - val_loss: 1.6671 - val_accuracy: 0.3540\n",
            "Epoch 5/10\n",
            "276/276 [==============================] - 4s 13ms/step - loss: 1.5290 - accuracy: 0.4070 - val_loss: 1.8460 - val_accuracy: 0.2776\n",
            "Epoch 6/10\n",
            "276/276 [==============================] - 4s 13ms/step - loss: 1.4943 - accuracy: 0.4221 - val_loss: 1.6645 - val_accuracy: 0.3788\n",
            "Epoch 7/10\n",
            "276/276 [==============================] - 4s 13ms/step - loss: 1.4107 - accuracy: 0.4590 - val_loss: 1.6664 - val_accuracy: 0.3730\n",
            "Epoch 8/10\n",
            "276/276 [==============================] - 3s 12ms/step - loss: 1.3368 - accuracy: 0.4926 - val_loss: 1.6930 - val_accuracy: 0.3736\n",
            "Epoch 9/10\n",
            "276/276 [==============================] - 3s 12ms/step - loss: 1.2922 - accuracy: 0.5136 - val_loss: 1.7217 - val_accuracy: 0.3749\n",
            "Epoch 10/10\n",
            "276/276 [==============================] - 4s 13ms/step - loss: 1.2276 - accuracy: 0.5404 - val_loss: 1.7676 - val_accuracy: 0.3749\n",
            "Epoch 1/10\n",
            "276/276 [==============================] - 2s 6ms/step - loss: 1.8864 - accuracy: 0.2408 - val_loss: 1.7097 - val_accuracy: 0.3407\n",
            "Epoch 2/10\n",
            "276/276 [==============================] - 1s 5ms/step - loss: 1.7660 - accuracy: 0.2829 - val_loss: 1.6605 - val_accuracy: 0.3453\n",
            "Epoch 3/10\n",
            "276/276 [==============================] - 1s 5ms/step - loss: 1.7080 - accuracy: 0.3230 - val_loss: 1.6684 - val_accuracy: 0.3238\n",
            "Epoch 4/10\n",
            "276/276 [==============================] - 1s 5ms/step - loss: 1.6809 - accuracy: 0.3394 - val_loss: 1.6993 - val_accuracy: 0.3029\n",
            "Epoch 5/10\n",
            "276/276 [==============================] - 2s 6ms/step - loss: 1.6663 - accuracy: 0.3444 - val_loss: 1.6178 - val_accuracy: 0.3714\n",
            "Epoch 6/10\n",
            "276/276 [==============================] - 2s 5ms/step - loss: 1.6456 - accuracy: 0.3468 - val_loss: 1.6263 - val_accuracy: 0.3636\n",
            "Epoch 7/10\n",
            "276/276 [==============================] - 1s 5ms/step - loss: 1.6503 - accuracy: 0.3572 - val_loss: 1.6437 - val_accuracy: 0.3499\n",
            "Epoch 8/10\n",
            "276/276 [==============================] - 1s 5ms/step - loss: 1.6276 - accuracy: 0.3638 - val_loss: 1.6325 - val_accuracy: 0.3577\n",
            "Epoch 9/10\n",
            "276/276 [==============================] - 1s 5ms/step - loss: 1.6403 - accuracy: 0.3552 - val_loss: 1.6599 - val_accuracy: 0.3446\n",
            "Epoch 10/10\n",
            "276/276 [==============================] - 1s 5ms/step - loss: 1.6133 - accuracy: 0.3763 - val_loss: 1.6015 - val_accuracy: 0.3805\n",
            "Epoch 1/10\n",
            "275/276 [============================>.] - ETA: 0s - loss: 2.2762 - accuracy: 0.2225"
          ],
          "name": "stdout"
        }
      ]
    },
    {
      "cell_type": "code",
      "metadata": {
        "id": "-e-lO58S5lJ8"
      },
      "source": [
        "answer=(model1.predict(X_test) + model2.predict(X_test) + model3.predict(X_test))/3\n",
        "pred=0\n",
        "for i in range(len(answer)):\n",
        "  if np.argmax(answer[i])==Y_test[i]:\n",
        "    pred+=1\n",
        "print(pred/len(answer))\n"
      ],
      "execution_count": null,
      "outputs": []
    },
    {
      "cell_type": "code",
      "metadata": {
        "id": "qzsu4Gy042Lc"
      },
      "source": [
        "emotions=['Angry', 'Disgust','Fear','Happy','Sad','Surprise','Neutral']\n",
        "\n"
      ],
      "execution_count": null,
      "outputs": []
    },
    {
      "cell_type": "code",
      "metadata": {
        "id": "i-Vs83tDzC1A"
      },
      "source": [
        "answer=(model1.predict(X_test) + model2.predict(X_test) + model3.predict(X_test))/3\n",
        "plt.imshow(X_test[19].reshape(48,48))\n",
        "print(emotions[np.argmax(answer[19])], np.round(answer[19], 3))"
      ],
      "execution_count": null,
      "outputs": []
    },
    {
      "cell_type": "code",
      "metadata": {
        "id": "44Ffe9Yi5jKc"
      },
      "source": [
        ""
      ],
      "execution_count": null,
      "outputs": []
    },
    {
      "cell_type": "code",
      "metadata": {
        "id": "2CmoXQtSMqLs"
      },
      "source": [
        "Y_test = np_utils.to_categorical(Y_test, num_classes)\n",
        "model.evaluate(X_test, Y_test) # Evaluate the trained model on the test set!"
      ],
      "execution_count": null,
      "outputs": []
    },
    {
      "cell_type": "code",
      "metadata": {
        "id": "t5bm3nIZoYFS"
      },
      "source": [
        "fig, ax = plt.subplots(6, 6, figsize = (12, 12))\n",
        "fig.suptitle('First 36 images in MNIST')\n",
        "fig.tight_layout(pad = 0.3, rect = [0, 0, 0.9, 0.9])\n",
        "for x, y in [(i, j) for i in range(6) for j in range(6)]:\n",
        "    ax[x, y].imshow(X_test[x + y * 6].reshape((48, 48)), cmap = 'gray')\n",
        "    ax[x, y].set_title(Y_test[x + y * 6])\n",
        "    #0=Angry, 1=Disgust, 2=Fear, 3=Happy, 4=Sad, 5=Surprise, 6=Neutral"
      ],
      "execution_count": null,
      "outputs": []
    }
  ]
}