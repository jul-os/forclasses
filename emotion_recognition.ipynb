{
  "nbformat": 4,
  "nbformat_minor": 0,
  "metadata": {
    "colab": {
      "name": "Untitled28.ipynb",
      "provenance": [],
      "collapsed_sections": [],
      "include_colab_link": true
    },
    "kernelspec": {
      "name": "python3",
      "display_name": "Python 3"
    },
    "language_info": {
      "name": "python"
    }
  },
  "cells": [
    {
      "cell_type": "markdown",
      "metadata": {
        "id": "view-in-github",
        "colab_type": "text"
      },
      "source": [
        "<a href=\"https://colab.research.google.com/github/jul-os/forclasses/blob/main/emotion_recognition.ipynb\" target=\"_parent\"><img src=\"https://colab.research.google.com/assets/colab-badge.svg\" alt=\"Open In Colab\"/></a>"
      ]
    },
    {
      "cell_type": "code",
      "metadata": {
        "colab": {
          "base_uri": "https://localhost:8080/"
        },
        "id": "_vGfW4I5yOl3",
        "outputId": "839131ea-da56-4aae-fa66-9b8a6272bcd9"
      },
      "source": [
        "from google.colab import drive\n",
        "drive.mount('/content/drive')"
      ],
      "execution_count": 66,
      "outputs": [
        {
          "output_type": "stream",
          "text": [
            "Drive already mounted at /content/drive; to attempt to forcibly remount, call drive.mount(\"/content/drive\", force_remount=True).\n"
          ],
          "name": "stdout"
        }
      ]
    },
    {
      "cell_type": "code",
      "metadata": {
        "id": "nFXbq-Q83LLE"
      },
      "source": [
        "import pandas as pd\n",
        "train= pd.read_csv('/content/drive/MyDrive/train.csv')\n",
        "test=pd.read_csv('/content/drive/MyDrive/test.csv')"
      ],
      "execution_count": 67,
      "outputs": []
    },
    {
      "cell_type": "code",
      "metadata": {
        "id": "C0TwHKKWr7rY"
      },
      "source": [
        "from keras.datasets import mnist\n",
        "from keras.models import Model\n",
        "from keras.layers import Input, Dense\n",
        "from keras.utils import np_utils\n",
        "import matplotlib.pyplot as plt\n",
        "import numpy as np"
      ],
      "execution_count": 68,
      "outputs": []
    },
    {
      "cell_type": "code",
      "metadata": {
        "colab": {
          "base_uri": "https://localhost:8080/",
          "height": 164
        },
        "id": "opA2teMe36ti",
        "outputId": "d2cefd19-c91d-4fd7-feac-b85359784bbc"
      },
      "source": [
        "K[1]=[0, 1]"
      ],
      "execution_count": 43,
      "outputs": [
        {
          "output_type": "error",
          "ename": "ValueError",
          "evalue": "ignored",
          "traceback": [
            "\u001b[0;31m---------------------------------------------------------------------------\u001b[0m",
            "\u001b[0;31mValueError\u001b[0m                                Traceback (most recent call last)",
            "\u001b[0;32m<ipython-input-43-e7c502e6388b>\u001b[0m in \u001b[0;36m<module>\u001b[0;34m()\u001b[0m\n\u001b[0;32m----> 1\u001b[0;31m \u001b[0mK\u001b[0m\u001b[0;34m[\u001b[0m\u001b[0;36m1\u001b[0m\u001b[0;34m]\u001b[0m\u001b[0;34m=\u001b[0m\u001b[0;34m[\u001b[0m\u001b[0;36m0\u001b[0m\u001b[0;34m,\u001b[0m \u001b[0;36m1\u001b[0m\u001b[0;34m]\u001b[0m\u001b[0;34m\u001b[0m\u001b[0;34m\u001b[0m\u001b[0m\n\u001b[0m",
            "\u001b[0;31mValueError\u001b[0m: setting an array element with a sequence"
          ]
        }
      ]
    },
    {
      "cell_type": "code",
      "metadata": {
        "colab": {
          "base_uri": "https://localhost:8080/",
          "height": 419
        },
        "id": "MKQmAGM23qCq",
        "outputId": "325a81cb-1d52-4de9-a951-29f928a89a7e"
      },
      "source": [
        "train"
      ],
      "execution_count": 50,
      "outputs": [
        {
          "output_type": "execute_result",
          "data": {
            "text/html": [
              "<div>\n",
              "<style scoped>\n",
              "    .dataframe tbody tr th:only-of-type {\n",
              "        vertical-align: middle;\n",
              "    }\n",
              "\n",
              "    .dataframe tbody tr th {\n",
              "        vertical-align: top;\n",
              "    }\n",
              "\n",
              "    .dataframe thead th {\n",
              "        text-align: right;\n",
              "    }\n",
              "</style>\n",
              "<table border=\"1\" class=\"dataframe\">\n",
              "  <thead>\n",
              "    <tr style=\"text-align: right;\">\n",
              "      <th></th>\n",
              "      <th>emotion</th>\n",
              "      <th>pixels</th>\n",
              "    </tr>\n",
              "  </thead>\n",
              "  <tbody>\n",
              "    <tr>\n",
              "      <th>0</th>\n",
              "      <td>0</td>\n",
              "      <td>70 80 82 72 58 58 60 63 54 58 60 48 89 115 121...</td>\n",
              "    </tr>\n",
              "    <tr>\n",
              "      <th>1</th>\n",
              "      <td>0</td>\n",
              "      <td>151 150 147 155 148 133 111 140 170 174 182 15...</td>\n",
              "    </tr>\n",
              "    <tr>\n",
              "      <th>2</th>\n",
              "      <td>2</td>\n",
              "      <td>231 212 156 164 174 138 161 173 182 200 106 38...</td>\n",
              "    </tr>\n",
              "    <tr>\n",
              "      <th>3</th>\n",
              "      <td>4</td>\n",
              "      <td>24 32 36 30 32 23 19 20 30 41 21 22 32 34 21 1...</td>\n",
              "    </tr>\n",
              "    <tr>\n",
              "      <th>4</th>\n",
              "      <td>6</td>\n",
              "      <td>4 0 0 0 0 0 0 0 0 0 0 0 3 15 23 28 48 50 58 84...</td>\n",
              "    </tr>\n",
              "    <tr>\n",
              "      <th>...</th>\n",
              "      <td>...</td>\n",
              "      <td>...</td>\n",
              "    </tr>\n",
              "    <tr>\n",
              "      <th>28704</th>\n",
              "      <td>2</td>\n",
              "      <td>84 85 85 85 85 85 85 85 86 86 86 87 86 86 91 9...</td>\n",
              "    </tr>\n",
              "    <tr>\n",
              "      <th>28705</th>\n",
              "      <td>0</td>\n",
              "      <td>114 112 113 113 111 111 112 113 115 113 114 11...</td>\n",
              "    </tr>\n",
              "    <tr>\n",
              "      <th>28706</th>\n",
              "      <td>4</td>\n",
              "      <td>74 81 87 89 95 100 98 93 105 120 127 133 146 1...</td>\n",
              "    </tr>\n",
              "    <tr>\n",
              "      <th>28707</th>\n",
              "      <td>0</td>\n",
              "      <td>222 227 203 90 86 90 84 77 94 87 99 119 134 14...</td>\n",
              "    </tr>\n",
              "    <tr>\n",
              "      <th>28708</th>\n",
              "      <td>4</td>\n",
              "      <td>195 199 205 206 205 203 206 209 208 210 212 21...</td>\n",
              "    </tr>\n",
              "  </tbody>\n",
              "</table>\n",
              "<p>28709 rows × 2 columns</p>\n",
              "</div>"
            ],
            "text/plain": [
              "       emotion                                             pixels\n",
              "0            0  70 80 82 72 58 58 60 63 54 58 60 48 89 115 121...\n",
              "1            0  151 150 147 155 148 133 111 140 170 174 182 15...\n",
              "2            2  231 212 156 164 174 138 161 173 182 200 106 38...\n",
              "3            4  24 32 36 30 32 23 19 20 30 41 21 22 32 34 21 1...\n",
              "4            6  4 0 0 0 0 0 0 0 0 0 0 0 3 15 23 28 48 50 58 84...\n",
              "...        ...                                                ...\n",
              "28704        2  84 85 85 85 85 85 85 85 86 86 86 87 86 86 91 9...\n",
              "28705        0  114 112 113 113 111 111 112 113 115 113 114 11...\n",
              "28706        4  74 81 87 89 95 100 98 93 105 120 127 133 146 1...\n",
              "28707        0  222 227 203 90 86 90 84 77 94 87 99 119 134 14...\n",
              "28708        4  195 199 205 206 205 203 206 209 208 210 212 21...\n",
              "\n",
              "[28709 rows x 2 columns]"
            ]
          },
          "metadata": {
            "tags": []
          },
          "execution_count": 50
        }
      ]
    },
    {
      "cell_type": "code",
      "metadata": {
        "colab": {
          "base_uri": "https://localhost:8080/",
          "height": 419
        },
        "id": "nHqowdV555oJ",
        "outputId": "bc1732bd-bf9e-4831-e006-3df8ad2ec9b2"
      },
      "source": [
        "test"
      ],
      "execution_count": 57,
      "outputs": [
        {
          "output_type": "execute_result",
          "data": {
            "text/html": [
              "<div>\n",
              "<style scoped>\n",
              "    .dataframe tbody tr th:only-of-type {\n",
              "        vertical-align: middle;\n",
              "    }\n",
              "\n",
              "    .dataframe tbody tr th {\n",
              "        vertical-align: top;\n",
              "    }\n",
              "\n",
              "    .dataframe thead th {\n",
              "        text-align: right;\n",
              "    }\n",
              "</style>\n",
              "<table border=\"1\" class=\"dataframe\">\n",
              "  <thead>\n",
              "    <tr style=\"text-align: right;\">\n",
              "      <th></th>\n",
              "      <th>pixels</th>\n",
              "    </tr>\n",
              "  </thead>\n",
              "  <tbody>\n",
              "    <tr>\n",
              "      <th>0</th>\n",
              "      <td>254 254 254 254 254 249 255 160 2 58 53 70 77 ...</td>\n",
              "    </tr>\n",
              "    <tr>\n",
              "      <th>1</th>\n",
              "      <td>156 184 198 202 204 207 210 212 213 214 215 21...</td>\n",
              "    </tr>\n",
              "    <tr>\n",
              "      <th>2</th>\n",
              "      <td>69 118 61 60 96 121 103 87 103 88 70 90 115 12...</td>\n",
              "    </tr>\n",
              "    <tr>\n",
              "      <th>3</th>\n",
              "      <td>205 203 236 157 83 158 120 116 94 86 155 180 2...</td>\n",
              "    </tr>\n",
              "    <tr>\n",
              "      <th>4</th>\n",
              "      <td>87 79 74 66 74 96 77 80 80 84 83 89 102 91 84 ...</td>\n",
              "    </tr>\n",
              "    <tr>\n",
              "      <th>...</th>\n",
              "      <td>...</td>\n",
              "    </tr>\n",
              "    <tr>\n",
              "      <th>7173</th>\n",
              "      <td>50 36 17 22 23 29 33 39 34 37 37 37 39 43 48 5...</td>\n",
              "    </tr>\n",
              "    <tr>\n",
              "      <th>7174</th>\n",
              "      <td>178 174 172 173 181 188 191 194 196 199 200 20...</td>\n",
              "    </tr>\n",
              "    <tr>\n",
              "      <th>7175</th>\n",
              "      <td>17 17 16 23 28 22 19 17 25 26 20 24 31 19 27 9...</td>\n",
              "    </tr>\n",
              "    <tr>\n",
              "      <th>7176</th>\n",
              "      <td>30 28 28 29 31 30 42 68 79 81 77 67 67 71 63 6...</td>\n",
              "    </tr>\n",
              "    <tr>\n",
              "      <th>7177</th>\n",
              "      <td>19 13 14 12 13 16 21 33 50 57 71 84 97 108 122...</td>\n",
              "    </tr>\n",
              "  </tbody>\n",
              "</table>\n",
              "<p>7178 rows × 1 columns</p>\n",
              "</div>"
            ],
            "text/plain": [
              "                                                 pixels\n",
              "0     254 254 254 254 254 249 255 160 2 58 53 70 77 ...\n",
              "1     156 184 198 202 204 207 210 212 213 214 215 21...\n",
              "2     69 118 61 60 96 121 103 87 103 88 70 90 115 12...\n",
              "3     205 203 236 157 83 158 120 116 94 86 155 180 2...\n",
              "4     87 79 74 66 74 96 77 80 80 84 83 89 102 91 84 ...\n",
              "...                                                 ...\n",
              "7173  50 36 17 22 23 29 33 39 34 37 37 37 39 43 48 5...\n",
              "7174  178 174 172 173 181 188 191 194 196 199 200 20...\n",
              "7175  17 17 16 23 28 22 19 17 25 26 20 24 31 19 27 9...\n",
              "7176  30 28 28 29 31 30 42 68 79 81 77 67 67 71 63 6...\n",
              "7177  19 13 14 12 13 16 21 33 50 57 71 84 97 108 122...\n",
              "\n",
              "[7178 rows x 1 columns]"
            ]
          },
          "metadata": {
            "tags": []
          },
          "execution_count": 57
        }
      ]
    },
    {
      "cell_type": "code",
      "metadata": {
        "id": "Zw_ekJQQ0xDi"
      },
      "source": [
        "K=np.array(list(train['pixels']))\n",
        "X_train=[]\n",
        "for i in range(len(K)):\n",
        "   X_train.append(np.array(K[i].split(), dtype='float32'))\n",
        "X_train=np.array(X_train)\n",
        "\n",
        "K=np.array(list(train['emotion']))\n",
        "Y_train=[]\n",
        "for i in range(len(K)):\n",
        "  Y_train.append(np.array(K[i], dtype='float32'))\n",
        "Y_train=np.array(Y_train)  \n",
        "K=np.array(list(test['pixels']))\n",
        "X_test=[]\n",
        "for i in range(len(K)):\n",
        "   X_test.append(np.array(K[i].split(), dtype='float32'))\n",
        "X_test=np.array(X_test)"
      ],
      "execution_count": 71,
      "outputs": []
    },
    {
      "cell_type": "code",
      "metadata": {
        "colab": {
          "base_uri": "https://localhost:8080/"
        },
        "id": "UH73ygHU7leL",
        "outputId": "e51352cd-0c1a-46a0-cd7f-33ad00610afc"
      },
      "source": [
        "X_train.shape, X_test.shape"
      ],
      "execution_count": 77,
      "outputs": [
        {
          "output_type": "execute_result",
          "data": {
            "text/plain": [
              "((28709, 2304), (7178, 2304))"
            ]
          },
          "metadata": {
            "tags": []
          },
          "execution_count": 77
        }
      ]
    },
    {
      "cell_type": "code",
      "metadata": {
        "id": "lSnKY7M4sCoc"
      },
      "source": [
        "batch_size = 128\n",
        "num_epochs = 20\n",
        "hidden_size = 512"
      ],
      "execution_count": 73,
      "outputs": []
    },
    {
      "cell_type": "code",
      "metadata": {
        "id": "SzkDnmIysIjn"
      },
      "source": [
        "num_train = 28709\n",
        "num_test = 7178\n",
        "\n",
        "height, width, depth = 48, 48, 1\n",
        "num_classes = 7\n",
        "X_train = X_train.reshape(num_train, height * width)\n",
        "X_test = X_test.reshape(num_test, height * width)\n",
        "X_train = X_train.astype('float32') \n",
        "X_test = X_test.astype('float32')\n",
        "X_train /= 255\n",
        "X_test /= 255\n",
        "Y_train = np_utils.to_categorical(Y_train, num_classes)"
      ],
      "execution_count": 79,
      "outputs": []
    },
    {
      "cell_type": "code",
      "metadata": {
        "colab": {
          "base_uri": "https://localhost:8080/",
          "height": 284
        },
        "id": "vg1XUU-HwiKC",
        "outputId": "0ba72fb3-4366-4a24-eef0-9fcb62c7c8c2"
      },
      "source": [
        "plt.imshow(X_test[1].reshape(48,48))"
      ],
      "execution_count": 82,
      "outputs": [
        {
          "output_type": "execute_result",
          "data": {
            "text/plain": [
              "<matplotlib.image.AxesImage at 0x7f6cd1124f50>"
            ]
          },
          "metadata": {
            "tags": []
          },
          "execution_count": 82
        },
        {
          "output_type": "display_data",
          "data": {
            "image/png": "[encoded data removed]",
            "text/plain": [
              "<Figure size 432x288 with 1 Axes>"
            ]
          },
          "metadata": {
            "tags": [],
            "needs_background": "light"
          }
        }
      ]
    },
    {
      "cell_type": "code",
      "metadata": {
        "id": "EMHsI69asMK9"
      },
      "source": [
        ""
      ],
      "execution_count": null,
      "outputs": []
    },
    {
      "cell_type": "code",
      "metadata": {
        "id": "pMUBssFcsj3e"
      },
      "source": [
        "model.compile(loss='categorical_crossentropy', # using the cross-entropy loss function\n",
        "              optimizer='adam', # using the Adam optimiser\n",
        "              metrics=['accuracy']) # reporting the accuracy"
      ],
      "execution_count": null,
      "outputs": []
    },
    {
      "cell_type": "code",
      "metadata": {
        "colab": {
          "base_uri": "https://localhost:8080/"
        },
        "id": "S0OU3FeGsnji",
        "outputId": "d24a5c37-76e6-44a2-f7f1-0fd3f7b14dcf"
      },
      "source": [
        "model.fit(X_train, Y_train, # Train the model using the training set...\n",
        "          batch_size=batch_size, epochs=num_epochs,\n",
        "          verbose=1, validation_split=0.1) # ...holding out 10% of the data for validation\n",
        "model.evaluate(X_test, Y_test, verbose=1) # Evaluate the trained model on the test set!"
      ],
      "execution_count": null,
      "outputs": [
        {
          "output_type": "stream",
          "text": [
            "Epoch 1/20\n",
            "422/422 [==============================] - 6s 13ms/step - loss: 0.0071 - accuracy: 0.9979 - val_loss: 0.0988 - val_accuracy: 0.9822\n",
            "Epoch 2/20\n",
            "422/422 [==============================] - 6s 13ms/step - loss: 0.0065 - accuracy: 0.9981 - val_loss: 0.1098 - val_accuracy: 0.9848\n",
            "Epoch 3/20\n",
            "422/422 [==============================] - 6s 13ms/step - loss: 0.0077 - accuracy: 0.9976 - val_loss: 0.1188 - val_accuracy: 0.9825\n",
            "Epoch 4/20\n",
            "422/422 [==============================] - 6s 14ms/step - loss: 0.0060 - accuracy: 0.9983 - val_loss: 0.0951 - val_accuracy: 0.9847\n",
            "Epoch 5/20\n",
            "422/422 [==============================] - 6s 13ms/step - loss: 0.0052 - accuracy: 0.9984 - val_loss: 0.1205 - val_accuracy: 0.9825\n",
            "Epoch 6/20\n",
            "422/422 [==============================] - 6s 13ms/step - loss: 0.0052 - accuracy: 0.9984 - val_loss: 0.1181 - val_accuracy: 0.9837\n",
            "Epoch 7/20\n",
            "422/422 [==============================] - 6s 14ms/step - loss: 0.0060 - accuracy: 0.9981 - val_loss: 0.1253 - val_accuracy: 0.9835\n",
            "Epoch 8/20\n",
            "422/422 [==============================] - 6s 13ms/step - loss: 0.0124 - accuracy: 0.9965 - val_loss: 0.1271 - val_accuracy: 0.9805\n",
            "Epoch 9/20\n",
            "422/422 [==============================] - 6s 14ms/step - loss: 0.0070 - accuracy: 0.9980 - val_loss: 0.1142 - val_accuracy: 0.9828\n",
            "Epoch 10/20\n",
            "422/422 [==============================] - 6s 14ms/step - loss: 0.0042 - accuracy: 0.9987 - val_loss: 0.1048 - val_accuracy: 0.9843\n",
            "Epoch 11/20\n",
            "422/422 [==============================] - 6s 14ms/step - loss: 0.0016 - accuracy: 0.9995 - val_loss: 0.1233 - val_accuracy: 0.9813\n",
            "Epoch 12/20\n",
            "422/422 [==============================] - 6s 14ms/step - loss: 0.0080 - accuracy: 0.9977 - val_loss: 0.1268 - val_accuracy: 0.9805\n",
            "Epoch 13/20\n",
            "422/422 [==============================] - 6s 14ms/step - loss: 0.0044 - accuracy: 0.9985 - val_loss: 0.1204 - val_accuracy: 0.9838\n",
            "Epoch 14/20\n",
            "422/422 [==============================] - 6s 14ms/step - loss: 0.0047 - accuracy: 0.9986 - val_loss: 0.1489 - val_accuracy: 0.9797\n",
            "Epoch 15/20\n",
            "422/422 [==============================] - 6s 14ms/step - loss: 0.0053 - accuracy: 0.9985 - val_loss: 0.1159 - val_accuracy: 0.9822\n",
            "Epoch 16/20\n",
            "422/422 [==============================] - 6s 14ms/step - loss: 0.0087 - accuracy: 0.9976 - val_loss: 0.1313 - val_accuracy: 0.9843\n",
            "Epoch 17/20\n",
            "422/422 [==============================] - 6s 14ms/step - loss: 0.0026 - accuracy: 0.9993 - val_loss: 0.1236 - val_accuracy: 0.9833\n",
            "Epoch 18/20\n",
            "422/422 [==============================] - 6s 14ms/step - loss: 7.7767e-04 - accuracy: 0.9997 - val_loss: 0.1214 - val_accuracy: 0.9857\n",
            "Epoch 19/20\n",
            "422/422 [==============================] - 6s 13ms/step - loss: 0.0053 - accuracy: 0.9987 - val_loss: 0.1473 - val_accuracy: 0.9798\n",
            "Epoch 20/20\n",
            "422/422 [==============================] - 6s 13ms/step - loss: 0.0079 - accuracy: 0.9976 - val_loss: 0.1450 - val_accuracy: 0.9827\n",
            "313/313 [==============================] - 1s 3ms/step - loss: 0.1563 - accuracy: 0.9783\n"
          ],
          "name": "stdout"
        },
        {
          "output_type": "execute_result",
          "data": {
            "text/plain": [
              "[0.15625344216823578, 0.9782999753952026]"
            ]
          },
          "metadata": {
            "tags": []
          },
          "execution_count": 26
        }
      ]
    }
  ]
}