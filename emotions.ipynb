{
  "nbformat": 4,
  "nbformat_minor": 0,
  "metadata": {
    "colab": {
      "name": "emotions.ipynb\"",
      "provenance": [],
      "collapsed_sections": [],
      "include_colab_link": true
    },
    "kernelspec": {
      "name": "python3",
      "display_name": "Python 3"
    },
    "language_info": {
      "name": "python"
    }
  },
  "cells": [
    {
      "cell_type": "markdown",
      "metadata": {
        "id": "view-in-github",
        "colab_type": "text"
      },
      "source": [
        "<a href=\"https://colab.research.google.com/github/jul-os/forclasses/blob/main/emotions.ipynb\" target=\"_parent\"><img src=\"https://colab.research.google.com/assets/colab-badge.svg\" alt=\"Open In Colab\"/></a>"
      ]
    },
    {
      "cell_type": "code",
      "metadata": {
        "colab": {
          "base_uri": "https://localhost:8080/"
        },
        "id": "_vGfW4I5yOl3",
        "outputId": "fb47a64d-27c3-47af-b7de-2e5c8a5dff37"
      },
      "source": [
        "from google.colab import drive\n",
        "drive.mount('/content/drive')"
      ],
      "execution_count": null,
      "outputs": [
        {
          "output_type": "stream",
          "text": [
            "Mounted at /content/drive\n"
          ],
          "name": "stdout"
        }
      ]
    },
    {
      "cell_type": "code",
      "metadata": {
        "id": "nFXbq-Q83LLE"
      },
      "source": [
        "import pandas as pd\n",
        "train= pd.read_csv('/content/drive/MyDrive/dataset/train.csv')\n",
        "test=pd.read_csv('/content/drive/MyDrive/dataset/test.csv')"
      ],
      "execution_count": null,
      "outputs": []
    },
    {
      "cell_type": "code",
      "metadata": {
        "id": "C0TwHKKWr7rY"
      },
      "source": [
        "from keras.datasets import mnist\n",
        "from keras.models import Model\n",
        "from keras.layers import Input, Dense\n",
        "from keras.utils import np_utils\n",
        "import matplotlib.pyplot as plt\n",
        "import numpy as np"
      ],
      "execution_count": null,
      "outputs": []
    },
    {
      "cell_type": "code",
      "metadata": {
        "colab": {
          "base_uri": "https://localhost:8080/",
          "height": 419
        },
        "id": "MKQmAGM23qCq",
        "outputId": "325a81cb-1d52-4de9-a951-29f928a89a7e"
      },
      "source": [
        "train"
      ],
      "execution_count": null,
      "outputs": [
        {
          "output_type": "execute_result",
          "data": {
            "text/html": [
              "<div>\n",
              "<style scoped>\n",
              "    .dataframe tbody tr th:only-of-type {\n",
              "        vertical-align: middle;\n",
              "    }\n",
              "\n",
              "    .dataframe tbody tr th {\n",
              "        vertical-align: top;\n",
              "    }\n",
              "\n",
              "    .dataframe thead th {\n",
              "        text-align: right;\n",
              "    }\n",
              "</style>\n",
              "<table border=\"1\" class=\"dataframe\">\n",
              "  <thead>\n",
              "    <tr style=\"text-align: right;\">\n",
              "      <th></th>\n",
              "      <th>emotion</th>\n",
              "      <th>pixels</th>\n",
              "    </tr>\n",
              "  </thead>\n",
              "  <tbody>\n",
              "    <tr>\n",
              "      <th>0</th>\n",
              "      <td>0</td>\n",
              "      <td>70 80 82 72 58 58 60 63 54 58 60 48 89 115 121...</td>\n",
              "    </tr>\n",
              "    <tr>\n",
              "      <th>1</th>\n",
              "      <td>0</td>\n",
              "      <td>151 150 147 155 148 133 111 140 170 174 182 15...</td>\n",
              "    </tr>\n",
              "    <tr>\n",
              "      <th>2</th>\n",
              "      <td>2</td>\n",
              "      <td>231 212 156 164 174 138 161 173 182 200 106 38...</td>\n",
              "    </tr>\n",
              "    <tr>\n",
              "      <th>3</th>\n",
              "      <td>4</td>\n",
              "      <td>24 32 36 30 32 23 19 20 30 41 21 22 32 34 21 1...</td>\n",
              "    </tr>\n",
              "    <tr>\n",
              "      <th>4</th>\n",
              "      <td>6</td>\n",
              "      <td>4 0 0 0 0 0 0 0 0 0 0 0 3 15 23 28 48 50 58 84...</td>\n",
              "    </tr>\n",
              "    <tr>\n",
              "      <th>...</th>\n",
              "      <td>...</td>\n",
              "      <td>...</td>\n",
              "    </tr>\n",
              "    <tr>\n",
              "      <th>28704</th>\n",
              "      <td>2</td>\n",
              "      <td>84 85 85 85 85 85 85 85 86 86 86 87 86 86 91 9...</td>\n",
              "    </tr>\n",
              "    <tr>\n",
              "      <th>28705</th>\n",
              "      <td>0</td>\n",
              "      <td>114 112 113 113 111 111 112 113 115 113 114 11...</td>\n",
              "    </tr>\n",
              "    <tr>\n",
              "      <th>28706</th>\n",
              "      <td>4</td>\n",
              "      <td>74 81 87 89 95 100 98 93 105 120 127 133 146 1...</td>\n",
              "    </tr>\n",
              "    <tr>\n",
              "      <th>28707</th>\n",
              "      <td>0</td>\n",
              "      <td>222 227 203 90 86 90 84 77 94 87 99 119 134 14...</td>\n",
              "    </tr>\n",
              "    <tr>\n",
              "      <th>28708</th>\n",
              "      <td>4</td>\n",
              "      <td>195 199 205 206 205 203 206 209 208 210 212 21...</td>\n",
              "    </tr>\n",
              "  </tbody>\n",
              "</table>\n",
              "<p>28709 rows × 2 columns</p>\n",
              "</div>"
            ],
            "text/plain": [
              "       emotion                                             pixels\n",
              "0            0  70 80 82 72 58 58 60 63 54 58 60 48 89 115 121...\n",
              "1            0  151 150 147 155 148 133 111 140 170 174 182 15...\n",
              "2            2  231 212 156 164 174 138 161 173 182 200 106 38...\n",
              "3            4  24 32 36 30 32 23 19 20 30 41 21 22 32 34 21 1...\n",
              "4            6  4 0 0 0 0 0 0 0 0 0 0 0 3 15 23 28 48 50 58 84...\n",
              "...        ...                                                ...\n",
              "28704        2  84 85 85 85 85 85 85 85 86 86 86 87 86 86 91 9...\n",
              "28705        0  114 112 113 113 111 111 112 113 115 113 114 11...\n",
              "28706        4  74 81 87 89 95 100 98 93 105 120 127 133 146 1...\n",
              "28707        0  222 227 203 90 86 90 84 77 94 87 99 119 134 14...\n",
              "28708        4  195 199 205 206 205 203 206 209 208 210 212 21...\n",
              "\n",
              "[28709 rows x 2 columns]"
            ]
          },
          "metadata": {
            "tags": []
          },
          "execution_count": 50
        }
      ]
    },
    {
      "cell_type": "code",
      "metadata": {
        "colab": {
          "base_uri": "https://localhost:8080/",
          "height": 419
        },
        "id": "nHqowdV555oJ",
        "outputId": "bc1732bd-bf9e-4831-e006-3df8ad2ec9b2"
      },
      "source": [
        "test"
      ],
      "execution_count": null,
      "outputs": [
        {
          "output_type": "execute_result",
          "data": {
            "text/html": [
              "<div>\n",
              "<style scoped>\n",
              "    .dataframe tbody tr th:only-of-type {\n",
              "        vertical-align: middle;\n",
              "    }\n",
              "\n",
              "    .dataframe tbody tr th {\n",
              "        vertical-align: top;\n",
              "    }\n",
              "\n",
              "    .dataframe thead th {\n",
              "        text-align: right;\n",
              "    }\n",
              "</style>\n",
              "<table border=\"1\" class=\"dataframe\">\n",
              "  <thead>\n",
              "    <tr style=\"text-align: right;\">\n",
              "      <th></th>\n",
              "      <th>pixels</th>\n",
              "    </tr>\n",
              "  </thead>\n",
              "  <tbody>\n",
              "    <tr>\n",
              "      <th>0</th>\n",
              "      <td>254 254 254 254 254 249 255 160 2 58 53 70 77 ...</td>\n",
              "    </tr>\n",
              "    <tr>\n",
              "      <th>1</th>\n",
              "      <td>156 184 198 202 204 207 210 212 213 214 215 21...</td>\n",
              "    </tr>\n",
              "    <tr>\n",
              "      <th>2</th>\n",
              "      <td>69 118 61 60 96 121 103 87 103 88 70 90 115 12...</td>\n",
              "    </tr>\n",
              "    <tr>\n",
              "      <th>3</th>\n",
              "      <td>205 203 236 157 83 158 120 116 94 86 155 180 2...</td>\n",
              "    </tr>\n",
              "    <tr>\n",
              "      <th>4</th>\n",
              "      <td>87 79 74 66 74 96 77 80 80 84 83 89 102 91 84 ...</td>\n",
              "    </tr>\n",
              "    <tr>\n",
              "      <th>...</th>\n",
              "      <td>...</td>\n",
              "    </tr>\n",
              "    <tr>\n",
              "      <th>7173</th>\n",
              "      <td>50 36 17 22 23 29 33 39 34 37 37 37 39 43 48 5...</td>\n",
              "    </tr>\n",
              "    <tr>\n",
              "      <th>7174</th>\n",
              "      <td>178 174 172 173 181 188 191 194 196 199 200 20...</td>\n",
              "    </tr>\n",
              "    <tr>\n",
              "      <th>7175</th>\n",
              "      <td>17 17 16 23 28 22 19 17 25 26 20 24 31 19 27 9...</td>\n",
              "    </tr>\n",
              "    <tr>\n",
              "      <th>7176</th>\n",
              "      <td>30 28 28 29 31 30 42 68 79 81 77 67 67 71 63 6...</td>\n",
              "    </tr>\n",
              "    <tr>\n",
              "      <th>7177</th>\n",
              "      <td>19 13 14 12 13 16 21 33 50 57 71 84 97 108 122...</td>\n",
              "    </tr>\n",
              "  </tbody>\n",
              "</table>\n",
              "<p>7178 rows × 1 columns</p>\n",
              "</div>"
            ],
            "text/plain": [
              "                                                 pixels\n",
              "0     254 254 254 254 254 249 255 160 2 58 53 70 77 ...\n",
              "1     156 184 198 202 204 207 210 212 213 214 215 21...\n",
              "2     69 118 61 60 96 121 103 87 103 88 70 90 115 12...\n",
              "3     205 203 236 157 83 158 120 116 94 86 155 180 2...\n",
              "4     87 79 74 66 74 96 77 80 80 84 83 89 102 91 84 ...\n",
              "...                                                 ...\n",
              "7173  50 36 17 22 23 29 33 39 34 37 37 37 39 43 48 5...\n",
              "7174  178 174 172 173 181 188 191 194 196 199 200 20...\n",
              "7175  17 17 16 23 28 22 19 17 25 26 20 24 31 19 27 9...\n",
              "7176  30 28 28 29 31 30 42 68 79 81 77 67 67 71 63 6...\n",
              "7177  19 13 14 12 13 16 21 33 50 57 71 84 97 108 122...\n",
              "\n",
              "[7178 rows x 1 columns]"
            ]
          },
          "metadata": {
            "tags": []
          },
          "execution_count": 57
        }
      ]
    },
    {
      "cell_type": "code",
      "metadata": {
        "id": "Zw_ekJQQ0xDi"
      },
      "source": [
        "K=np.array(list(train['pixels']))\n",
        "X_train=[]\n",
        "for i in range(len(K)):\n",
        "   X_train.append(np.array(K[i].split(), dtype='float32'))\n",
        "X_train=np.array(X_train)\n",
        "\n",
        "K=np.array(list(train['emotion']))\n",
        "Y_train=[]\n",
        "for i in range(len(K)):\n",
        "  Y_train.append(np.array(K[i], dtype='float32'))\n",
        "Y_train=np.array(Y_train)  \n",
        "K=np.array(list(test['pixels']))\n",
        "X_test=[]\n",
        "for i in range(len(K)):\n",
        "   X_test.append(np.array(K[i].split(), dtype='float32'))\n",
        "X_test=np.array(X_test)"
      ],
      "execution_count": null,
      "outputs": []
    },
    {
      "cell_type": "code",
      "metadata": {
        "colab": {
          "base_uri": "https://localhost:8080/"
        },
        "id": "UH73ygHU7leL",
        "outputId": "18a8ec85-d89f-4b39-b076-06e4e0ba9856"
      },
      "source": [
        "X_train.shape, X_test.shape"
      ],
      "execution_count": null,
      "outputs": [
        {
          "output_type": "execute_result",
          "data": {
            "text/plain": [
              "((28709, 2304), (7178, 2304))"
            ]
          },
          "metadata": {
            "tags": []
          },
          "execution_count": 5
        }
      ]
    },
    {
      "cell_type": "code",
      "metadata": {
        "id": "lSnKY7M4sCoc"
      },
      "source": [
        "batch_size = 128\n",
        "num_epochs = 20\n",
        "hidden_size = 512"
      ],
      "execution_count": null,
      "outputs": []
    },
    {
      "cell_type": "code",
      "metadata": {
        "id": "SzkDnmIysIjn"
      },
      "source": [
        "num_train = 28709\n",
        "num_test = 7178\n",
        "\n",
        "height, width, depth = 48, 48, 1\n",
        "num_classes = 7\n",
        "X_train = X_train.reshape(num_train, height * width)\n",
        "X_test = X_test.reshape(num_test, height * width)\n",
        "X_train = X_train.astype('float32') \n",
        "X_test = X_test.astype('float32')\n",
        "X_train /= 255\n",
        "X_test /= 255\n",
        "Y_train = np_utils.to_categorical(Y_train, num_classes)"
      ],
      "execution_count": null,
      "outputs": []
    },
    {
      "cell_type": "code",
      "metadata": {
        "colab": {
          "base_uri": "https://localhost:8080/",
          "height": 284
        },
        "id": "vg1XUU-HwiKC",
        "outputId": "6b89045b-081f-4574-9d67-4b33d82d7900"
      },
      "source": [
        "plt.imshow(X_test[55].reshape(48,48))"
      ],
      "execution_count": null,
      "outputs": [
        {
          "output_type": "execute_result",
          "data": {
            "text/plain": [
              "<matplotlib.image.AxesImage at 0x7ff188fcf610>"
            ]
          },
          "metadata": {
            "tags": []
          },
          "execution_count": 9
        },
        {
          "output_type": "display_data",
          "data": {
            "image/png": "[encoded data removed]",
            "text/plain": [
              "<Figure size 432x288 with 1 Axes>"
            ]
          },
          "metadata": {
            "tags": [],
            "needs_background": "light"
          }
        }
      ]
    },
    {
      "cell_type": "code",
      "metadata": {
        "id": "vv5cIHCHUivd"
      },
      "source": [
        "inp = Input(shape=(height * width,)) \n",
        "hidden_1 = Dense(hidden_size, activation='relu')(inp)\n",
        "hidden_2 = Dense(hidden_size, activation='relu')(hidden_1) \n",
        "out = Dense(num_classes, activation='sigmoid')(hidden_2)\n",
        "\n",
        "model = Model(inp, out) "
      ],
      "execution_count": null,
      "outputs": []
    },
    {
      "cell_type": "code",
      "metadata": {
        "id": "pMUBssFcsj3e"
      },
      "source": [
        "model.compile(loss='categorical_crossentropy', # using the cross-entropy loss function\n",
        "              optimizer='adam', # using the Adam optimiser\n",
        "              metrics=['accuracy']) # reporting the accuracy"
      ],
      "execution_count": null,
      "outputs": []
    },
    {
      "cell_type": "code",
      "metadata": {
        "colab": {
          "base_uri": "https://localhost:8080/"
        },
        "id": "S0OU3FeGsnji",
        "outputId": "07e0504c-1b3b-4adf-8ca4-9fa76a3e6418"
      },
      "source": [
        "model.fit(X_train, Y_train, # Train the model using the training set...\n",
        "          batch_size=batch_size, epochs=num_epochs,\n",
        "          verbose=1, validation_split=0.1) # ...holding out 10% of the data for validation\n",
        "model.evaluate(X_test, verbose=1) # Evaluate the trained model on the test set!\n",
        "#how do we know the test went right if the test Y is not labeled???"
      ],
      "execution_count": null,
      "outputs": [
        {
          "output_type": "stream",
          "text": [
            "Epoch 1/20\n",
            "202/202 [==============================] - 4s 19ms/step - loss: 1.4593 - accuracy: 0.4313 - val_loss: 1.5427 - val_accuracy: 0.4044\n",
            "Epoch 2/20\n",
            "202/202 [==============================] - 4s 19ms/step - loss: 1.4396 - accuracy: 0.4447 - val_loss: 1.5215 - val_accuracy: 0.4138\n",
            "Epoch 3/20\n",
            "202/202 [==============================] - 4s 19ms/step - loss: 1.4312 - accuracy: 0.4457 - val_loss: 1.5312 - val_accuracy: 0.4030\n",
            "Epoch 4/20\n",
            "202/202 [==============================] - 4s 19ms/step - loss: 1.4278 - accuracy: 0.4502 - val_loss: 1.5524 - val_accuracy: 0.4127\n",
            "Epoch 5/20\n",
            "202/202 [==============================] - 4s 19ms/step - loss: 1.4120 - accuracy: 0.4558 - val_loss: 1.5697 - val_accuracy: 0.4009\n",
            "Epoch 6/20\n",
            "202/202 [==============================] - 4s 19ms/step - loss: 1.3949 - accuracy: 0.4607 - val_loss: 1.5223 - val_accuracy: 0.4232\n",
            "Epoch 7/20\n",
            "202/202 [==============================] - 4s 19ms/step - loss: 1.3959 - accuracy: 0.4604 - val_loss: 1.5543 - val_accuracy: 0.4176\n",
            "Epoch 8/20\n",
            "202/202 [==============================] - 4s 19ms/step - loss: 1.3790 - accuracy: 0.4705 - val_loss: 1.5333 - val_accuracy: 0.4180\n",
            "Epoch 9/20\n",
            "202/202 [==============================] - 4s 19ms/step - loss: 1.3751 - accuracy: 0.4709 - val_loss: 1.5562 - val_accuracy: 0.3967\n",
            "Epoch 10/20\n",
            "202/202 [==============================] - 4s 19ms/step - loss: 1.3601 - accuracy: 0.4768 - val_loss: 1.5648 - val_accuracy: 0.4054\n",
            "Epoch 11/20\n",
            "202/202 [==============================] - 4s 19ms/step - loss: 1.3544 - accuracy: 0.4783 - val_loss: 1.5727 - val_accuracy: 0.4141\n",
            "Epoch 12/20\n",
            "202/202 [==============================] - 4s 19ms/step - loss: 1.3382 - accuracy: 0.4877 - val_loss: 1.5352 - val_accuracy: 0.4068\n",
            "Epoch 13/20\n",
            "202/202 [==============================] - 4s 19ms/step - loss: 1.3258 - accuracy: 0.4909 - val_loss: 1.5519 - val_accuracy: 0.4089\n",
            "Epoch 14/20\n",
            "202/202 [==============================] - 4s 19ms/step - loss: 1.3161 - accuracy: 0.4948 - val_loss: 1.5925 - val_accuracy: 0.4016\n",
            "Epoch 15/20\n",
            "202/202 [==============================] - 4s 19ms/step - loss: 1.3031 - accuracy: 0.5033 - val_loss: 1.5551 - val_accuracy: 0.4208\n",
            "Epoch 16/20\n",
            "202/202 [==============================] - 4s 19ms/step - loss: 1.2934 - accuracy: 0.5093 - val_loss: 1.5836 - val_accuracy: 0.4068\n",
            "Epoch 17/20\n",
            "202/202 [==============================] - 4s 19ms/step - loss: 1.2904 - accuracy: 0.5090 - val_loss: 1.5909 - val_accuracy: 0.4082\n",
            "Epoch 18/20\n",
            "202/202 [==============================] - 4s 19ms/step - loss: 1.2661 - accuracy: 0.5164 - val_loss: 1.5887 - val_accuracy: 0.4145\n",
            "Epoch 19/20\n",
            "202/202 [==============================] - 4s 19ms/step - loss: 1.2608 - accuracy: 0.5199 - val_loss: 1.6339 - val_accuracy: 0.4023\n",
            "Epoch 20/20\n",
            "202/202 [==============================] - 4s 19ms/step - loss: 1.2586 - accuracy: 0.5224 - val_loss: 1.5716 - val_accuracy: 0.4173\n",
            "225/225 [==============================] - 0s 1ms/step - loss: 0.0000e+00 - accuracy: 0.0000e+00\n"
          ],
          "name": "stdout"
        },
        {
          "output_type": "execute_result",
          "data": {
            "text/plain": [
              "[0.0, 0.0]"
            ]
          },
          "metadata": {
            "tags": []
          },
          "execution_count": 11
        }
      ]
    }
  ]
}